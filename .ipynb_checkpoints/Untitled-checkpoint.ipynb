{
 "cells": [
  {
   "cell_type": "code",
   "execution_count": 22,
   "metadata": {},
   "outputs": [],
   "source": [
    "import os\n",
    "import struct\n",
    "import numpy as np\n",
    "import pandas as pd\n",
    "import xlrd\n",
    "from sklearn.model_selection import train_test_split\n",
    "import tensorflow as tf"
   ]
  },
  {
   "cell_type": "code",
   "execution_count": 11,
   "metadata": {},
   "outputs": [],
   "source": [
    "data = pd.read_csv('./Data/ace_2000.csv', header= 0)"
   ]
  },
  {
   "cell_type": "code",
   "execution_count": 12,
   "metadata": {},
   "outputs": [
    {
     "name": "stdout",
     "output_type": "stream",
     "text": [
      "<bound method NDFrame.head of         year  doy  hr  min        Np        Tp       Vp  B_gsm_x  B_gsm_y  \\\n",
      "0       2000    1   0    0     3.274  289000.0   679.28   -5.537    1.169   \n",
      "1       2000    1   0    1     3.424  247000.0   670.87   -6.039    4.627   \n",
      "2       2000    1   0    2     3.334  248000.0   673.69   -5.934    5.432   \n",
      "3       2000    1   0    3     3.518  227000.0   668.05   -5.853    2.867   \n",
      "4       2000    1   0    4     3.375  240000.0   662.88   -6.912    2.393   \n",
      "...      ...  ...  ..  ...       ...       ...      ...      ...      ...   \n",
      "494096  2000  366  23   55 -9999.900  -10000.0   292.25   -3.054    1.098   \n",
      "494097  2000  366  23   56 -9999.900  -10000.0   291.84   -3.001    1.146   \n",
      "494098  2000  366  23   57 -9999.900  -10000.0 -9999.90   -3.030    1.131   \n",
      "494099  2000  366  23   58 -9999.900  -10000.0   292.56   -3.052    1.137   \n",
      "494100  2000  366  23   59 -9999.900  -10000.0 -9999.90   -3.103    1.170   \n",
      "\n",
      "        B_gsm_z     Bt  \n",
      "0         4.127  7.721  \n",
      "1         3.457  8.370  \n",
      "2         2.841  8.561  \n",
      "3         4.605  8.202  \n",
      "4         3.434  8.102  \n",
      "...         ...    ...  \n",
      "494096   -1.165  3.449  \n",
      "494097   -1.108  3.398  \n",
      "494098   -1.104  3.418  \n",
      "494099   -1.116  3.443  \n",
      "494100   -1.159  3.513  \n",
      "\n",
      "[494101 rows x 11 columns]>\n"
     ]
    }
   ],
   "source": [
    "print((data.head))"
   ]
  },
  {
   "cell_type": "code",
   "execution_count": 13,
   "metadata": {},
   "outputs": [
    {
     "name": "stdout",
     "output_type": "stream",
     "text": [
      "<class 'pandas.core.frame.DataFrame'>\n"
     ]
    }
   ],
   "source": [
    "print(type(data))"
   ]
  },
  {
   "cell_type": "code",
   "execution_count": 15,
   "metadata": {},
   "outputs": [],
   "source": [
    "data1=data.groupby(['doy'], as_index=False).mean()"
   ]
  },
  {
   "cell_type": "code",
   "execution_count": 18,
   "metadata": {},
   "outputs": [
    {
     "name": "stdout",
     "output_type": "stream",
     "text": [
      "     doy    year         hr        min           Np             Tp  \\\n",
      "0      1  2000.0  11.502222  29.533333  -464.298100  231851.851852   \n",
      "1      2  2000.0  11.502222  29.533333  -375.371574  177038.370370   \n",
      "2      3  2000.0  11.502222  29.546667  -426.865537  130209.037037   \n",
      "3      4  2000.0  11.502222  29.533333  -382.408819  135401.037037   \n",
      "4      5  2000.0  11.502222  29.533333  -412.005747  121179.333333   \n",
      "..   ...     ...        ...        ...          ...            ...   \n",
      "361  362  2000.0  11.497778  29.600000  -430.371523   57205.755556   \n",
      "362  363  2000.0  11.497778  29.600000  -731.739332   57398.074074   \n",
      "363  364  2000.0  11.497778  29.600000  -622.283657   25106.296296   \n",
      "364  365  2000.0  11.497778  29.600000  -565.625801   37244.962963   \n",
      "365  366  2000.0  11.497778  29.600000 -6502.336740   21641.333333   \n",
      "\n",
      "             Vp    B_gsm_x    B_gsm_y    B_gsm_z         Bt  \n",
      "0    165.490933  -3.216484   2.934549   0.001556   6.482796  \n",
      "1    242.579859  -2.505283   1.398933   0.224848   5.087256  \n",
      "2    131.157622 -32.493100 -27.271794 -29.753748 -24.737644  \n",
      "3    128.708274  -2.591805   3.093654  -0.705836   5.749666  \n",
      "4     69.664956  -3.012479   2.122457  -1.540317   6.043204  \n",
      "..          ...        ...        ...        ...        ...  \n",
      "361  -80.179607   1.736095  -4.082118  -0.732593   7.518027  \n",
      "362 -387.187178   0.950446  -1.699911   0.809224   6.166081  \n",
      "363 -301.922193  -4.084682   3.822751  -1.318516   7.179101  \n",
      "364 -295.014570 -19.479876 -12.735194 -13.159236  -8.156254  \n",
      "365 -958.672926  -4.087004  -0.184708  -0.228390   4.569363  \n",
      "\n",
      "[366 rows x 11 columns]\n"
     ]
    }
   ],
   "source": [
    "print(data1)"
   ]
  },
  {
   "cell_type": "code",
   "execution_count": 24,
   "metadata": {},
   "outputs": [],
   "source": [
    "y = pd.read_csv('./Data/지자기교란 지수.csv', header= 0)"
   ]
  },
  {
   "cell_type": "code",
   "execution_count": 20,
   "metadata": {},
   "outputs": [
    {
     "name": "stdout",
     "output_type": "stream",
     "text": [
      "<bound method NDFrame.head of             date  kp_0h  kp_3h  kp_6h  kp_9h  kp_12h  kp_15h  kp_18h  kp_21h\n",
      "0     1999-01-01      0      2      1      2       2       1       1       1\n",
      "1     1999-01-02      1      2      2      3       3       2       2       1\n",
      "2     1999-01-03      2      2      0      0       1       1       1       1\n",
      "3     1999-01-04      1      2      3      2       3       2       1       2\n",
      "4     1999-01-05      3      3      2      3       1       1       2       1\n",
      "...          ...    ...    ...    ...    ...     ...     ...     ...     ...\n",
      "5474  2013-12-27      0      0      0      0       0       0       2       1\n",
      "5475  2013-12-28      0      0      0      1       1       1       1       1\n",
      "5476  2013-12-29      1      1      1      2       1       1       2       1\n",
      "5477  2013-12-30      0      0      1      1       1       1       1       1\n",
      "5478  2013-12-31      2      1      2      2       2       1       2       1\n",
      "\n",
      "[5479 rows x 9 columns]>\n"
     ]
    }
   ],
   "source": [
    "print(train_y.head)"
   ]
  },
  {
   "cell_type": "code",
   "execution_count": 26,
   "metadata": {},
   "outputs": [
    {
     "ename": "ValueError",
     "evalue": "Found input variables with inconsistent numbers of samples: [366, 5479]",
     "output_type": "error",
     "traceback": [
      "\u001b[1;31m---------------------------------------------------------------------------\u001b[0m",
      "\u001b[1;31mValueError\u001b[0m                                Traceback (most recent call last)",
      "\u001b[1;32m<ipython-input-26-3588204469e8>\u001b[0m in \u001b[0;36m<module>\u001b[1;34m\u001b[0m\n\u001b[0;32m      1\u001b[0m X_train, X_test, y_train, y_test = train_test_split(data1,y, stratify=y,\n\u001b[1;32m----> 2\u001b[1;33m                                                     random_state=42)\n\u001b[0m",
      "\u001b[1;32m~\\Anaconda3\\lib\\site-packages\\sklearn\\model_selection\\_split.py\u001b[0m in \u001b[0;36mtrain_test_split\u001b[1;34m(*arrays, **options)\u001b[0m\n\u001b[0;32m   2094\u001b[0m         \u001b[1;32mraise\u001b[0m \u001b[0mTypeError\u001b[0m\u001b[1;33m(\u001b[0m\u001b[1;34m\"Invalid parameters passed: %s\"\u001b[0m \u001b[1;33m%\u001b[0m \u001b[0mstr\u001b[0m\u001b[1;33m(\u001b[0m\u001b[0moptions\u001b[0m\u001b[1;33m)\u001b[0m\u001b[1;33m)\u001b[0m\u001b[1;33m\u001b[0m\u001b[1;33m\u001b[0m\u001b[0m\n\u001b[0;32m   2095\u001b[0m \u001b[1;33m\u001b[0m\u001b[0m\n\u001b[1;32m-> 2096\u001b[1;33m     \u001b[0marrays\u001b[0m \u001b[1;33m=\u001b[0m \u001b[0mindexable\u001b[0m\u001b[1;33m(\u001b[0m\u001b[1;33m*\u001b[0m\u001b[0marrays\u001b[0m\u001b[1;33m)\u001b[0m\u001b[1;33m\u001b[0m\u001b[1;33m\u001b[0m\u001b[0m\n\u001b[0m\u001b[0;32m   2097\u001b[0m \u001b[1;33m\u001b[0m\u001b[0m\n\u001b[0;32m   2098\u001b[0m     \u001b[0mn_samples\u001b[0m \u001b[1;33m=\u001b[0m \u001b[0m_num_samples\u001b[0m\u001b[1;33m(\u001b[0m\u001b[0marrays\u001b[0m\u001b[1;33m[\u001b[0m\u001b[1;36m0\u001b[0m\u001b[1;33m]\u001b[0m\u001b[1;33m)\u001b[0m\u001b[1;33m\u001b[0m\u001b[1;33m\u001b[0m\u001b[0m\n",
      "\u001b[1;32m~\\Anaconda3\\lib\\site-packages\\sklearn\\utils\\validation.py\u001b[0m in \u001b[0;36mindexable\u001b[1;34m(*iterables)\u001b[0m\n\u001b[0;32m    228\u001b[0m         \u001b[1;32melse\u001b[0m\u001b[1;33m:\u001b[0m\u001b[1;33m\u001b[0m\u001b[1;33m\u001b[0m\u001b[0m\n\u001b[0;32m    229\u001b[0m             \u001b[0mresult\u001b[0m\u001b[1;33m.\u001b[0m\u001b[0mappend\u001b[0m\u001b[1;33m(\u001b[0m\u001b[0mnp\u001b[0m\u001b[1;33m.\u001b[0m\u001b[0marray\u001b[0m\u001b[1;33m(\u001b[0m\u001b[0mX\u001b[0m\u001b[1;33m)\u001b[0m\u001b[1;33m)\u001b[0m\u001b[1;33m\u001b[0m\u001b[1;33m\u001b[0m\u001b[0m\n\u001b[1;32m--> 230\u001b[1;33m     \u001b[0mcheck_consistent_length\u001b[0m\u001b[1;33m(\u001b[0m\u001b[1;33m*\u001b[0m\u001b[0mresult\u001b[0m\u001b[1;33m)\u001b[0m\u001b[1;33m\u001b[0m\u001b[1;33m\u001b[0m\u001b[0m\n\u001b[0m\u001b[0;32m    231\u001b[0m     \u001b[1;32mreturn\u001b[0m \u001b[0mresult\u001b[0m\u001b[1;33m\u001b[0m\u001b[1;33m\u001b[0m\u001b[0m\n\u001b[0;32m    232\u001b[0m \u001b[1;33m\u001b[0m\u001b[0m\n",
      "\u001b[1;32m~\\Anaconda3\\lib\\site-packages\\sklearn\\utils\\validation.py\u001b[0m in \u001b[0;36mcheck_consistent_length\u001b[1;34m(*arrays)\u001b[0m\n\u001b[0;32m    203\u001b[0m     \u001b[1;32mif\u001b[0m \u001b[0mlen\u001b[0m\u001b[1;33m(\u001b[0m\u001b[0muniques\u001b[0m\u001b[1;33m)\u001b[0m \u001b[1;33m>\u001b[0m \u001b[1;36m1\u001b[0m\u001b[1;33m:\u001b[0m\u001b[1;33m\u001b[0m\u001b[1;33m\u001b[0m\u001b[0m\n\u001b[0;32m    204\u001b[0m         raise ValueError(\"Found input variables with inconsistent numbers of\"\n\u001b[1;32m--> 205\u001b[1;33m                          \" samples: %r\" % [int(l) for l in lengths])\n\u001b[0m\u001b[0;32m    206\u001b[0m \u001b[1;33m\u001b[0m\u001b[0m\n\u001b[0;32m    207\u001b[0m \u001b[1;33m\u001b[0m\u001b[0m\n",
      "\u001b[1;31mValueError\u001b[0m: Found input variables with inconsistent numbers of samples: [366, 5479]"
     ]
    }
   ],
   "source": [
    "X_train, X_test, y_train, y_test = train_test_split(data1,y, stratify=y,\n",
    "                                                    random_state=42)"
   ]
  },
  {
   "cell_type": "code",
   "execution_count": null,
   "metadata": {},
   "outputs": [],
   "source": []
  }
 ],
 "metadata": {
  "kernelspec": {
   "display_name": "Python 3",
   "language": "python",
   "name": "python3"
  },
  "language_info": {
   "codemirror_mode": {
    "name": "ipython",
    "version": 3
   },
   "file_extension": ".py",
   "mimetype": "text/x-python",
   "name": "python",
   "nbconvert_exporter": "python",
   "pygments_lexer": "ipython3",
   "version": "3.7.4"
  }
 },
 "nbformat": 4,
 "nbformat_minor": 2
}
